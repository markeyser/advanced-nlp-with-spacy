{
 "cells": [
  {
   "cell_type": "markdown",
   "metadata": {},
   "source": [
    "# Working with Text Files - Part Two\n",
    "\n",
    "We're going to do now is go over how to read and write to basic text files with just the built in capabilities of the standard python library.\n",
    "\n",
    "Let's begin by actually creating a text file. The method I'm going to use is specific to Jupiter notebooks and it's a magic command.\n",
    "\n",
    "\n",
    "Keep in mind if you're not using Jupiter notebook just use a standard text editor like subline text editor or Adam text editor to save a text file. Again this specific line and what's written here in the cell only works for the Jupiter notebook's system. So please if you're not using Jupiter notebooks just open up a basic text editor and say this is a text file."
   ]
  },
  {
   "cell_type": "code",
   "execution_count": 1,
   "metadata": {},
   "outputs": [
    {
     "name": "stdout",
     "output_type": "stream",
     "text": [
      "Writing test.txt\n"
     ]
    }
   ],
   "source": [
    "%%writefile test.txt\n",
    "Hello, this is a quick test file.\n",
    "This is the second line of the file."
   ]
  },
  {
   "cell_type": "markdown",
   "metadata": {},
   "source": [
    "Now that I have this test that `test.txt` I should be able to open it.\n",
    "\n",
    "The first thing you should do whatever you're opening a text file regardless of what library using is make sure you understand the files location.\n",
    "\n",
    "To open up a file you first create the variable and then you say it equals two. And Python has a built in keyword called Open and then in parentheses you passen the path to the file.\n",
    "\n",
    "```python\n",
    "myfile = open('')\n",
    "```\n",
    "\n",
    "If you happen to provide a file that isn't there. For example let's go ahead and make up a file name like:"
   ]
  },
  {
   "cell_type": "code",
   "execution_count": 2,
   "metadata": {},
   "outputs": [
    {
     "ename": "FileNotFoundError",
     "evalue": "[Errno 2] No such file or directory: 'whoops.txt'",
     "output_type": "error",
     "traceback": [
      "\u001b[0;31m---------------------------------------------------------------------------\u001b[0m",
      "\u001b[0;31mFileNotFoundError\u001b[0m                         Traceback (most recent call last)",
      "\u001b[0;32m<ipython-input-2-410403f4f4b4>\u001b[0m in \u001b[0;36m<module>\u001b[0;34m\u001b[0m\n\u001b[0;32m----> 1\u001b[0;31m \u001b[0mmyfile\u001b[0m \u001b[0;34m=\u001b[0m \u001b[0mopen\u001b[0m\u001b[0;34m(\u001b[0m\u001b[0;34m'whoops.txt'\u001b[0m\u001b[0;34m)\u001b[0m\u001b[0;34m\u001b[0m\u001b[0m\n\u001b[0m",
      "\u001b[0;31mFileNotFoundError\u001b[0m: [Errno 2] No such file or directory: 'whoops.txt'"
     ]
    }
   ],
   "source": [
    "myfile = open('whoops.txt')"
   ]
  },
  {
   "cell_type": "markdown",
   "metadata": {},
   "source": [
    "If you run this you'll get a file not found error and say `Error Number 2 No such file or directory: whoops.txt` That means you're either providing the wrong file path or you misspelled the actual file name. So keep in mind to avoid this error you should have a good awareness of where this notebook is currently located as well as where your text file is currently located.\n",
    "\n",
    "To figure out where your notebook is currently located you can simply type PWT into a cell Run it and it will tell you where you're currently located."
   ]
  },
  {
   "cell_type": "code",
   "execution_count": 3,
   "metadata": {},
   "outputs": [
    {
     "data": {
      "text/plain": [
       "'/Users/marcosaguilerakeyser/Projects/advanced-nlp-with-spacy'"
      ]
     },
     "execution_count": 3,
     "metadata": {},
     "output_type": "execute_result"
    }
   ],
   "source": [
    "pwd"
   ]
  },
  {
   "cell_type": "markdown",
   "metadata": {},
   "source": [
    "So now let's actually grab the test text file that we wrote."
   ]
  },
  {
   "cell_type": "code",
   "execution_count": 4,
   "metadata": {},
   "outputs": [],
   "source": [
    "myfile = open('test.txt')"
   ]
  },
  {
   "cell_type": "markdown",
   "metadata": {},
   "source": [
    "and when you run this you now have your file open and if you actually look at my file object it should just tell you something like this is a wrapper ready to go for this text file and by default it reads it with a mode r which means reading. "
   ]
  },
  {
   "cell_type": "code",
   "execution_count": 5,
   "metadata": {},
   "outputs": [
    {
     "data": {
      "text/plain": [
       "<_io.TextIOWrapper name='test.txt' mode='r' encoding='UTF-8'>"
      ]
     },
     "execution_count": 5,
     "metadata": {},
     "output_type": "execute_result"
    }
   ],
   "source": [
    "myfile"
   ]
  },
  {
   "cell_type": "markdown",
   "metadata": {},
   "source": [
    "But keep in mind if you ever get error number two it means you're either passing in the wrong file path or you misspelled the actual file name.\n",
    "\n",
    "In general the easiest way to go about this is to make sure your text files are in the same location as your notebook is and you can always figure out the location of your notebook with `pwd`.  \n",
    "\n",
    "If you want open files that are in another location on your computer, you can just passen the entire file path.\n",
    "\n",
    "For Windows you need to use double \\ so python doesn't treat the second \\ as an escape character, a file path is in the form:\n",
    "\n",
    "```python\n",
    "myfile = open(\"C:\\\\Users\\\\YourUserName\\\\Home\\\\Folder\\\\myfile.txt\")\n",
    "```\n",
    "\n",
    "For MacOS and Linux you use slashes in the opposite direction:\n",
    "\n",
    "```python\n",
    "myfile = open(\"/Users/YourUserName/Home/Folder/myfile.txt\")\n",
    "```\n",
    "\n",
    "Always keep in mind that sometimes text files don't actually explicitly call this `.txt` extension, maybe is just `myfile`.\n",
    "\n",
    "Ok so now that we've opened up the file we have it saved as this. My file and it's just text IO wrapper object. Well we can do is we can read the file and the way you do that is simply by:"
   ]
  },
  {
   "cell_type": "code",
   "execution_count": 6,
   "metadata": {},
   "outputs": [
    {
     "data": {
      "text/plain": [
       "'Hello, this is a quick test file.\\nThis is the second line of the file.\\n'"
      ]
     },
     "execution_count": 6,
     "metadata": {},
     "output_type": "execute_result"
    }
   ],
   "source": [
    "myfile.read()"
   ]
  },
  {
   "cell_type": "markdown",
   "metadata": {},
   "source": [
    "And noticed what happened here. It says \"Hello, This is a quick text file.\" and then we get this backslash `\\n` that backslash `\\n` is an indicator for a new line. \n",
    "\n",
    "Now what's interesting is if I were to try to read this file again it suddenly shows up blank:"
   ]
  },
  {
   "cell_type": "code",
   "execution_count": 7,
   "metadata": {},
   "outputs": [
    {
     "data": {
      "text/plain": [
       "''"
      ]
     },
     "execution_count": 7,
     "metadata": {},
     "output_type": "execute_result"
    }
   ],
   "source": [
    "myfile.read()"
   ]
  },
  {
   "cell_type": "markdown",
   "metadata": {},
   "source": [
    "So this is often a point of confusion for beginners with Python or reading in textfiles of Python is that you can't just call read multiple times on a file. \n",
    "\n",
    "Essentially what's going on is you have a cursor at the very beginning of a text file and after you call the read the cursor goes throughout the entire text file and then returns the entire file as a string.\n",
    "\n",
    "As we can see here and then the cursor is sitting at the end of the file which means when you call read again it's just going to read from the cursor all the way to the end of the file which in this case it's already called read. There's nothing there. Just an empty string.\n",
    "\n",
    "In order to fix this we need to do is call my file thought seek and then you can change the cursor to index position 0 which essentially resets the cursor."
   ]
  },
  {
   "cell_type": "code",
   "execution_count": 8,
   "metadata": {},
   "outputs": [
    {
     "data": {
      "text/plain": [
       "0"
      ]
     },
     "execution_count": 8,
     "metadata": {},
     "output_type": "execute_result"
    }
   ],
   "source": [
    "myfile.seek(0)"
   ]
  },
  {
   "cell_type": "markdown",
   "metadata": {},
   "source": [
    "I'll report back OK the cursor now is at index 0.\n",
    "\n",
    "I mean the cursor is now at the beginning of the text file and I can call read again so my file read. And here I see the entire stream again:"
   ]
  },
  {
   "cell_type": "code",
   "execution_count": 9,
   "metadata": {},
   "outputs": [
    {
     "data": {
      "text/plain": [
       "'Hello, this is a quick test file.\\nThis is the second line of the file.\\n'"
      ]
     },
     "execution_count": 9,
     "metadata": {},
     "output_type": "execute_result"
    }
   ],
   "source": [
    "myfile.read()"
   ]
  },
  {
   "cell_type": "markdown",
   "metadata": {},
   "source": [
    "So `.read()` is really useful for smaller files where you just want to grab everything and then save as a string.\n",
    "\n",
    "So let's go ahead and seek zero again so I can say maybe content is equal to my file:"
   ]
  },
  {
   "cell_type": "code",
   "execution_count": 12,
   "metadata": {},
   "outputs": [
    {
     "data": {
      "text/plain": [
       "0"
      ]
     },
     "execution_count": 12,
     "metadata": {},
     "output_type": "execute_result"
    }
   ],
   "source": [
    "myfile.seek(0)"
   ]
  },
  {
   "cell_type": "code",
   "execution_count": 13,
   "metadata": {},
   "outputs": [],
   "source": [
    "content = myfile.read()"
   ]
  },
  {
   "cell_type": "markdown",
   "metadata": {},
   "source": [
    "And now content is going to be this save string of the file:"
   ]
  },
  {
   "cell_type": "code",
   "execution_count": 14,
   "metadata": {},
   "outputs": [
    {
     "data": {
      "text/plain": [
       "'Hello, this is a quick test file.\\nThis is the second line of the file.\\n'"
      ]
     },
     "execution_count": 14,
     "metadata": {},
     "output_type": "execute_result"
    }
   ],
   "source": [
    "content"
   ]
  },
  {
   "cell_type": "markdown",
   "metadata": {},
   "source": [
    "Content is going to be this save string of the file and since it has its backslash `\\n` if ever what actually want to print the content:"
   ]
  },
  {
   "cell_type": "code",
   "execution_count": 15,
   "metadata": {},
   "outputs": [
    {
     "name": "stdout",
     "output_type": "stream",
     "text": [
      "Hello, this is a quick test file.\n",
      "This is the second line of the file.\n",
      "\n"
     ]
    }
   ],
   "source": [
    "print(content)"
   ]
  },
  {
   "cell_type": "markdown",
   "metadata": {},
   "source": [
    "I'll take that into account and then I'll display it as necessary so I'll take into account the escape characters and print out the new line and keep in mind now content is actually the literal string Ill take that into account and then Ill display it as necessary so I'll take into account the escape characters and print out the new line and keep in mind now content is actually the literal string. I no longer need to worry about this seek reading capability off the file OK so that's how you can read in the file as a string."
   ]
  },
  {
   "cell_type": "code",
   "execution_count": 16,
   "metadata": {},
   "outputs": [
    {
     "data": {
      "text/plain": [
       "'Hello, this is a quick test file.\\nThis is the second line of the file.\\n'"
      ]
     },
     "execution_count": 16,
     "metadata": {},
     "output_type": "execute_result"
    }
   ],
   "source": [
    "content"
   ]
  },
  {
   "cell_type": "markdown",
   "metadata": {},
   "source": [
    "The last thing you should know is you should always close the file once you're done working with it. So you can close the file simply by:"
   ]
  },
  {
   "cell_type": "code",
   "execution_count": 17,
   "metadata": {},
   "outputs": [],
   "source": [
    "myfile.close()"
   ]
  },
  {
   "cell_type": "markdown",
   "metadata": {},
   "source": [
    "and now that file object has been closed.\n",
    "\n",
    "The reason you want to make sure to do that is just in case you try opening that text file for another program, if you still have it open in Python, it may cause issues of your operating system. \n",
    "\n",
    "If you've ever tried to pull out a USB drive and it said hey some files are still under use. That's the sort of thing that happens if you don't close a file. They'll basically say hey Python is using this text file, I can't open it right now. So always make sure to close your files.\n",
    "\n",
    "Now we just saw how the dot read method off a file object returns the entire text file as one large string. Often it would be nice if we could iterate through each line in the text file. Notice that each line is essentially segmented by this backslash `\\n`. Luckily Python actually has a read line method in addition to the read method which will actually read in each line as a separate item in a python list. Let's go ahead and show you what that looks like."
   ]
  },
  {
   "cell_type": "code",
   "execution_count": 18,
   "metadata": {},
   "outputs": [],
   "source": [
    "myfile = open('test.txt')"
   ]
  },
  {
   "cell_type": "code",
   "execution_count": 19,
   "metadata": {},
   "outputs": [
    {
     "data": {
      "text/plain": [
       "['Hello, this is a quick test file.\\n',\n",
       " 'This is the second line of the file.\\n']"
      ]
     },
     "execution_count": 19,
     "metadata": {},
     "output_type": "execute_result"
    }
   ],
   "source": [
    "myfile.readlines()"
   ]
  },
  {
   "cell_type": "markdown",
   "metadata": {},
   "source": [
    "So I just opened the text file and instead of saying read I'm actually going to hit tab here and notice that I have this read lines. That's another really useful method and what this does is if you run this it's going to read in each line as a separate item in the list and it's going to use this `\\n` as the last item for.\n",
    "\n",
    "So now what I could do is let me go back seeker 0."
   ]
  },
  {
   "cell_type": "code",
   "execution_count": 20,
   "metadata": {},
   "outputs": [
    {
     "data": {
      "text/plain": [
       "0"
      ]
     },
     "execution_count": 20,
     "metadata": {},
     "output_type": "execute_result"
    }
   ],
   "source": [
    "myfile.seek(0)"
   ]
  },
  {
   "cell_type": "code",
   "execution_count": 21,
   "metadata": {},
   "outputs": [],
   "source": [
    "mylines = myfile.readlines()"
   ]
  },
  {
   "cell_type": "code",
   "execution_count": 22,
   "metadata": {},
   "outputs": [
    {
     "data": {
      "text/plain": [
       "['Hello, this is a quick test file.\\n',\n",
       " 'This is the second line of the file.\\n']"
      ]
     },
     "execution_count": 22,
     "metadata": {},
     "output_type": "execute_result"
    }
   ],
   "source": [
    "mylines"
   ]
  },
  {
   "cell_type": "markdown",
   "metadata": {},
   "source": [
    "And then I could say my lines is equal to my Fylde read lines run that and now I have this my lines object which is a list of every string are essentially every line as a string and then it could iterate through it."
   ]
  },
  {
   "cell_type": "code",
   "execution_count": 23,
   "metadata": {},
   "outputs": [
    {
     "name": "stdout",
     "output_type": "stream",
     "text": [
      "H\n",
      "T\n"
     ]
    }
   ],
   "source": [
    "for line in mylines:\n",
    "    print(line[0])"
   ]
  },
  {
   "cell_type": "markdown",
   "metadata": {},
   "source": [
    "Maybe you want to split that actual string into separate words and then grab the first item there and that's going to return back essentially the first set of characters before a space for each line:"
   ]
  },
  {
   "cell_type": "code",
   "execution_count": 24,
   "metadata": {},
   "outputs": [
    {
     "name": "stdout",
     "output_type": "stream",
     "text": [
      "Hello,\n",
      "This\n"
     ]
    }
   ],
   "source": [
    "for line in mylines:\n",
    "    print(line.split()[0])"
   ]
  },
  {
   "cell_type": "markdown",
   "metadata": {},
   "source": [
    "And you can begin to experiment but that's why read lines is also a very useful method and it's often more common to see red lines than just read. But it really depends on the situation.\n",
    "\n",
    ">So `read()` is to grab everything as one giant string `readlines()` is the grab every line as a separate string for a list."
   ]
  },
  {
   "cell_type": "code",
   "execution_count": null,
   "metadata": {},
   "outputs": [],
   "source": []
  },
  {
   "cell_type": "code",
   "execution_count": null,
   "metadata": {},
   "outputs": [],
   "source": []
  },
  {
   "cell_type": "code",
   "execution_count": null,
   "metadata": {},
   "outputs": [],
   "source": []
  },
  {
   "cell_type": "code",
   "execution_count": null,
   "metadata": {},
   "outputs": [],
   "source": []
  },
  {
   "cell_type": "code",
   "execution_count": null,
   "metadata": {},
   "outputs": [],
   "source": []
  },
  {
   "cell_type": "code",
   "execution_count": null,
   "metadata": {},
   "outputs": [],
   "source": []
  },
  {
   "cell_type": "code",
   "execution_count": null,
   "metadata": {},
   "outputs": [],
   "source": []
  },
  {
   "cell_type": "code",
   "execution_count": null,
   "metadata": {},
   "outputs": [],
   "source": []
  },
  {
   "cell_type": "code",
   "execution_count": null,
   "metadata": {},
   "outputs": [],
   "source": []
  },
  {
   "cell_type": "code",
   "execution_count": null,
   "metadata": {},
   "outputs": [],
   "source": []
  },
  {
   "cell_type": "code",
   "execution_count": null,
   "metadata": {},
   "outputs": [],
   "source": []
  },
  {
   "cell_type": "code",
   "execution_count": null,
   "metadata": {},
   "outputs": [],
   "source": []
  },
  {
   "cell_type": "code",
   "execution_count": null,
   "metadata": {},
   "outputs": [],
   "source": []
  },
  {
   "cell_type": "code",
   "execution_count": null,
   "metadata": {},
   "outputs": [],
   "source": []
  },
  {
   "cell_type": "code",
   "execution_count": null,
   "metadata": {},
   "outputs": [],
   "source": []
  }
 ],
 "metadata": {
  "kernelspec": {
   "display_name": "Python 3",
   "language": "python",
   "name": "python3"
  },
  "language_info": {
   "codemirror_mode": {
    "name": "ipython",
    "version": 3
   },
   "file_extension": ".py",
   "mimetype": "text/x-python",
   "name": "python",
   "nbconvert_exporter": "python",
   "pygments_lexer": "ipython3",
   "version": "3.6.6"
  }
 },
 "nbformat": 4,
 "nbformat_minor": 2
}
